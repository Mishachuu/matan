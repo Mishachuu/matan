{
 "cells": [
  {
   "cell_type": "code",
   "execution_count": 2,
   "metadata": {},
   "outputs": [],
   "source": [
    "import sympy as sp"
   ]
  },
  {
   "cell_type": "markdown",
   "metadata": {},
   "source": [
    "Чукарев Михаил 10 Вариант"
   ]
  },
  {
   "cell_type": "code",
   "execution_count": 28,
   "metadata": {},
   "outputs": [
    {
     "data": {
      "text/latex": [
       "$\\displaystyle - 1.5129 \\left(- 1.6260162601626 \\sqrt{2} - 1\\right)^{2} - 4.305 \\sqrt{2} \\left(-1.23 + 2 \\sqrt{2}\\right)$"
      ],
      "text/plain": [
       "-1.5129*(-1.6260162601626*sqrt(2) - 1)**2 - 4.305*sqrt(2)*(-1.23 + 2*sqrt(2))"
      ]
     },
     "execution_count": 28,
     "metadata": {},
     "output_type": "execute_result"
    }
   ],
   "source": [
    "x,y=sp.symbols(\"x,y\")\n",
    "example=7*x*y*(x+y)/4-(x-y)**2\n",
    "simplified_example=sp.simplify(example)\n",
    "substituted_example = simplified_example.subs([(x, -1.23), (y, sp.sqrt(8))])\n",
    "substituted_example"
   ]
  },
  {
   "cell_type": "markdown",
   "metadata": {},
   "source": [
    "Задание 2"
   ]
  },
  {
   "cell_type": "code",
   "execution_count": 29,
   "metadata": {},
   "outputs": [
    {
     "data": {
      "text/plain": [
       "(7*x*y/4 - 2*x + 7*y*(x + y)/4 + 2*y, 7*x*y/4 + 7*x*(x + y)/4 + 2*x - 2*y)"
      ]
     },
     "execution_count": 29,
     "metadata": {},
     "output_type": "execute_result"
    }
   ],
   "source": [
    "diff_x=sp.diff(example,x)\n",
    "diff_y=sp.diff(example,y)\n",
    "diff_x , diff_y"
   ]
  },
  {
   "cell_type": "markdown",
   "metadata": {},
   "source": [
    "Задание 3"
   ]
  },
  {
   "cell_type": "code",
   "execution_count": 30,
   "metadata": {},
   "outputs": [
    {
     "data": {
      "text/latex": [
       "$\\displaystyle x^{3} \\cdot \\left(\\frac{7 y}{12} - \\frac{1}{3}\\right) + x^{2} \\cdot \\left(\\frac{7 y^{2}}{8} + y\\right) - x y^{2}$"
      ],
      "text/plain": [
       "x**3*(7*y/12 - 1/3) + x**2*(7*y**2/8 + y) - x*y**2"
      ]
     },
     "execution_count": 30,
     "metadata": {},
     "output_type": "execute_result"
    }
   ],
   "source": [
    "integral=sp.integrate(example,x)\n",
    "integral"
   ]
  },
  {
   "cell_type": "markdown",
   "metadata": {},
   "source": [
    "Задание 4"
   ]
  },
  {
   "cell_type": "code",
   "execution_count": 31,
   "metadata": {},
   "outputs": [
    {
     "data": {
      "text/plain": [
       "[-11/5 + 3*sqrt(29)/5, -3*sqrt(29)/5 - 11/5]"
      ]
     },
     "execution_count": 31,
     "metadata": {},
     "output_type": "execute_result"
    }
   ],
   "source": [
    "equation = sp.Eq(example.subs(x, 2), 10)\n",
    "solve=sp.solve(equation)\n",
    "solve"
   ]
  },
  {
   "cell_type": "markdown",
   "metadata": {},
   "source": [
    "Задание 5"
   ]
  },
  {
   "cell_type": "code",
   "execution_count": 32,
   "metadata": {},
   "outputs": [
    {
     "data": {
      "text/plain": [
       "{x1: 3 - x3, x2: 4 - x3}"
      ]
     },
     "execution_count": 32,
     "metadata": {},
     "output_type": "execute_result"
    }
   ],
   "source": [
    "x1, x2, x3 = sp.symbols(\"x1,x2,x3\")\n",
    "example = [\n",
    "    sp.Eq(3*x1-2*x2+x3, 1),\n",
    "    sp.Eq(-5*x1+3*x2-2*x3, -3),\n",
    "    sp.Eq(x1+x2+2*x3, 7)\n",
    "]\n",
    "solve = sp.solve(example)\n",
    "solve\n"
   ]
  },
  {
   "cell_type": "markdown",
   "metadata": {},
   "source": [
    "Задание 6"
   ]
  },
  {
   "cell_type": "code",
   "execution_count": 33,
   "metadata": {},
   "outputs": [
    {
     "data": {
      "text/latex": [
       "$\\displaystyle \\frac{258987 \\sqrt{2 \\sqrt{6} + 5} \\left(- \\pi + \\operatorname{atan}{\\left(\\frac{-1 + \\sqrt{2}}{\\sqrt{2 \\sqrt{6} + 5}} \\right)}\\right)}{576180 \\sqrt{6} + 1411347} + \\frac{105731 \\sqrt{6} \\sqrt{2 \\sqrt{6} + 5} \\left(- \\pi + \\operatorname{atan}{\\left(\\frac{-1 + \\sqrt{2}}{\\sqrt{2 \\sqrt{6} + 5}} \\right)}\\right)}{576180 \\sqrt{6} + 1411347} + \\frac{2563707 \\sqrt{5 - 2 \\sqrt{6}} \\left(- \\pi + \\operatorname{atan}{\\left(\\frac{-1 + \\sqrt{2}}{\\sqrt{5 - 2 \\sqrt{6}}} \\right)}\\right)}{576180 \\sqrt{6} + 1411347} + \\frac{1046629 \\sqrt{6} \\sqrt{5 - 2 \\sqrt{6}} \\left(- \\pi + \\operatorname{atan}{\\left(\\frac{-1 + \\sqrt{2}}{\\sqrt{5 - 2 \\sqrt{6}}} \\right)}\\right)}{576180 \\sqrt{6} + 1411347} + \\frac{105731 \\sqrt{6} \\pi \\sqrt{2 \\sqrt{6} + 5}}{576180 \\sqrt{6} + 1411347} + \\frac{1046629 \\sqrt{6} \\pi \\sqrt{5 - 2 \\sqrt{6}}}{576180 \\sqrt{6} + 1411347} + \\frac{2563707 \\pi \\sqrt{5 - 2 \\sqrt{6}}}{576180 \\sqrt{6} + 1411347} + \\frac{258987 \\pi \\sqrt{2 \\sqrt{6} + 5}}{576180 \\sqrt{6} + 1411347}$"
      ],
      "text/plain": [
       "258987*sqrt(2*sqrt(6) + 5)*(-pi + atan((-1 + sqrt(2))/sqrt(2*sqrt(6) + 5)))/(576180*sqrt(6) + 1411347) + 105731*sqrt(6)*sqrt(2*sqrt(6) + 5)*(-pi + atan((-1 + sqrt(2))/sqrt(2*sqrt(6) + 5)))/(576180*sqrt(6) + 1411347) + 2563707*sqrt(5 - 2*sqrt(6))*(-pi + atan((-1 + sqrt(2))/sqrt(5 - 2*sqrt(6))))/(576180*sqrt(6) + 1411347) + 1046629*sqrt(6)*sqrt(5 - 2*sqrt(6))*(-pi + atan((-1 + sqrt(2))/sqrt(5 - 2*sqrt(6))))/(576180*sqrt(6) + 1411347) + 105731*sqrt(6)*pi*sqrt(2*sqrt(6) + 5)/(576180*sqrt(6) + 1411347) + 1046629*sqrt(6)*pi*sqrt(5 - 2*sqrt(6))/(576180*sqrt(6) + 1411347) + 2563707*pi*sqrt(5 - 2*sqrt(6))/(576180*sqrt(6) + 1411347) + 258987*pi*sqrt(2*sqrt(6) + 5)/(576180*sqrt(6) + 1411347)"
      ]
     },
     "execution_count": 33,
     "metadata": {},
     "output_type": "execute_result"
    }
   ],
   "source": [
    "x = sp.symbols(\"x\")\n",
    "f = 1/(1+2*sp.sin(x)**2)\n",
    "integral = sp.integrate(f, (x, 0, (sp.pi)/4))\n",
    "integral\n"
   ]
  },
  {
   "cell_type": "markdown",
   "metadata": {},
   "source": [
    "Задание 7"
   ]
  },
  {
   "cell_type": "code",
   "execution_count": 3,
   "metadata": {},
   "outputs": [
    {
     "data": {
      "text/latex": [
       "$\\displaystyle \\frac{63}{20}$"
      ],
      "text/plain": [
       "63/20"
      ]
     },
     "execution_count": 3,
     "metadata": {},
     "output_type": "execute_result"
    }
   ],
   "source": [
    "x,y = sp.symbols(\"x,y\")\n",
    "f=y**2\n",
    "integral=sp.integrate(f,(x,y**2,y+2),(y,-1,2))\n",
    "integral"
   ]
  }
 ],
 "metadata": {
  "kernelspec": {
   "display_name": "Python 3",
   "language": "python",
   "name": "python3"
  },
  "language_info": {
   "codemirror_mode": {
    "name": "ipython",
    "version": 3
   },
   "file_extension": ".py",
   "mimetype": "text/x-python",
   "name": "python",
   "nbconvert_exporter": "python",
   "pygments_lexer": "ipython3",
   "version": "3.10.11"
  },
  "orig_nbformat": 4
 },
 "nbformat": 4,
 "nbformat_minor": 2
}
