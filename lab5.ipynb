{
 "cells": [
  {
   "cell_type": "markdown",
   "metadata": {},
   "source": [
    "# Лабораторная лабота 5. Чукарев Михаил\n",
    "## Численное интегрирование"
   ]
  },
  {
   "cell_type": "code",
   "execution_count": 1,
   "metadata": {},
   "outputs": [],
   "source": [
    "import sympy as smp\n",
    "import numpy as np\n"
   ]
  },
  {
   "attachments": {
    "image.png": {
     "image/png": "[encoded data removed]"
    }
   },
   "cell_type": "markdown",
   "metadata": {},
   "source": [
    "![image.png](attachment:image.png)"
   ]
  },
  {
   "cell_type": "code",
   "execution_count": 16,
   "metadata": {},
   "outputs": [],
   "source": [
    "x = smp.Symbol('x')\n",
    "F = x**3/smp.sqrt(1-x**2)\n",
    "interval = [-0.5, 0.5]\n",
    "a = interval[0]\n",
    "b = interval[1]\n",
    "epsilon = 0.001"
   ]
  },
  {
   "cell_type": "code",
   "execution_count": 17,
   "metadata": {},
   "outputs": [],
   "source": [
    "def maxM(f, a, b):\n",
    "    x = smp.Symbol('x')\n",
    "    x_arr = np.linspace(a, b + 0.0000001, 1000)\n",
    "    f2 = []\n",
    "    for xi in x_arr:\n",
    "        f2.append(np.abs(f.subs(x, xi).evalf()))\n",
    "    return float(max(f2))"
   ]
  },
  {
   "cell_type": "code",
   "execution_count": 18,
   "metadata": {},
   "outputs": [
    {
     "name": "stdout",
     "output_type": "stream",
     "text": [
      "Шаг интегрирования h =  0.015625\n"
     ]
    }
   ],
   "source": [
    "f1 = smp.diff(F, x)\n",
    "f2 = smp.diff(f1, x)\n",
    "h = (b -a)/4\n",
    "M = maxM(f2, a, b)\n",
    "\n",
    "while M*np.abs(b-a)*h**2/12 >= epsilon:\n",
    "    h /= 4\n",
    "\n",
    "print('Шаг интегрирования h = ', h)\n"
   ]
  },
  {
   "cell_type": "markdown",
   "metadata": {},
   "source": [
    "### Вычисление интеграла по формуле трапеций"
   ]
  },
  {
   "cell_type": "code",
   "execution_count": 19,
   "metadata": {},
   "outputs": [],
   "source": [
    "def trap(h):\n",
    "    int_trap = 0\n",
    "    y = []\n",
    "    for xi in np.arange(a, b + 0.0000001, h):\n",
    "        y.append(F.subs(x, xi).evalf())\n",
    "\n",
    "    for i in range(1, len(y) - 1):\n",
    "        int_trap += y[i]\n",
    "\n",
    "    int_trap += (y[0] + y[len(y) - 1])/2\n",
    "    int_trap *= h\n",
    "    return int_trap"
   ]
  },
  {
   "cell_type": "code",
   "execution_count": 21,
   "metadata": {},
   "outputs": [
    {
     "name": "stdout",
     "output_type": "stream",
     "text": [
      "С шагом h = -1.73472347597681e-18\n",
      "С шагом 2h = 4.33680868994202e-19\n",
      "Оценка погрешности = 7.22801448323670e-19\n",
      "Вычисленный интеграл: 0 = 0\n"
     ]
    }
   ],
   "source": [
    "In = trap(h)\n",
    "print('С шагом h =', In)\n",
    "I2n = trap(2*h)\n",
    "print('С шагом 2h =', I2n)\n",
    "print('Оценка погрешности =', (1/3)*np.abs(In - I2n))\n",
    "print('Вычисленный интеграл:', smp.integrate(F, (x, interval[0], interval[1])), '=', smp.integrate(F, (x, interval[0], interval[1])).evalf())"
   ]
  },
  {
   "cell_type": "markdown",
   "metadata": {},
   "source": [
    "### Вычисление интеграла по формуле Симпсона"
   ]
  },
  {
   "cell_type": "code",
   "execution_count": 22,
   "metadata": {},
   "outputs": [],
   "source": [
    "def simpson(h):\n",
    "    int_simp = 0\n",
    "    y = []\n",
    "    for xi in np.arange(a, b + 0.0000001, h):\n",
    "        y.append(F.subs(x, xi).evalf())\n",
    "\n",
    "    for i in range(1, len(y) - 1, 2):\n",
    "        int_simp += 4*y[i]\n",
    "        \n",
    "    for i in range(2, len(y) - 2, 2):\n",
    "        int_simp += 2*y[i]\n",
    "\n",
    "    int_simp += y[0] + y[len(y) - 1]\n",
    "    int_simp *= h/3\n",
    "    return int_simp"
   ]
  },
  {
   "cell_type": "code",
   "execution_count": 23,
   "metadata": {},
   "outputs": [
    {
     "name": "stdout",
     "output_type": "stream",
     "text": [
      "С шагом h = 1.44560289664734e-19\n",
      "С шагом 2h = -2.89120579329468e-18\n",
      "Оценка погрешности = 2.02384405530627e-19\n",
      "Вычисленный интеграл: 0 = 0\n"
     ]
    }
   ],
   "source": [
    "In = simpson(h)\n",
    "print('С шагом h =', In)\n",
    "I2n = simpson(2*h)\n",
    "print('С шагом 2h =', I2n)\n",
    "print('Оценка погрешности =', (1/15)*np.abs(In - I2n))\n",
    "print('Вычисленный интеграл:', smp.integrate(F, (x, interval[0], interval[1])), '=', smp.integrate(F, (x, interval[0], interval[1])).evalf())"
   ]
  },
  {
   "cell_type": "markdown",
   "metadata": {},
   "source": [
    "### Вычисление по формуле Ньютона-Лейбница"
   ]
  },
  {
   "cell_type": "code",
   "execution_count": 24,
   "metadata": {},
   "outputs": [
    {
     "name": "stdout",
     "output_type": "stream",
     "text": [
      "Неопределенный интеграл: -x**2*sqrt(1 - x**2)/3 - 2*sqrt(1 - x**2)/3\n",
      "-0.649519052838329 - -0.649519052838329 = 0 =0\n"
     ]
    }
   ],
   "source": [
    "F_int = smp.integrate(F, x)\n",
    "print('Неопределенный интеграл:', F_int)\n",
    "print(f'{F_int.subs(x, b)} - {F_int.subs(x, a)} = {F_int.subs(x, b) - F_int.subs(x, a)} ={(F_int.subs(x, b) - F_int.subs(x, a)).evalf()}')"
   ]
  }
 ],
 "metadata": {
  "kernelspec": {
   "display_name": "Python 3",
   "language": "python",
   "name": "python3"
  },
  "language_info": {
   "codemirror_mode": {
    "name": "ipython",
    "version": 3
   },
   "file_extension": ".py",
   "mimetype": "text/x-python",
   "name": "python",
   "nbconvert_exporter": "python",
   "pygments_lexer": "ipython3",
   "version": "3.10.11"
  }
 },
 "nbformat": 4,
 "nbformat_minor": 2
}
