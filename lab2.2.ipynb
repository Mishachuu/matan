{
 "cells": [
  {
   "cell_type": "code",
   "execution_count": 7,
   "metadata": {},
   "outputs": [],
   "source": [
    "import numpy as np"
   ]
  },
  {
   "cell_type": "markdown",
   "metadata": {},
   "source": [
    "1. Создать квадратную матрицу из случайных целых чисел из\n",
    "[-5,5] размера 7. Создать две новые матрицы: первая – из трех последних строк исходной матрицы (должна получиться матрица\n",
    "размера 3х7), вторая – из двух первых столбцов матрицы (матрица\n",
    "размера 7х2). "
   ]
  },
  {
   "cell_type": "code",
   "execution_count": 8,
   "metadata": {},
   "outputs": [
    {
     "name": "stdout",
     "output_type": "stream",
     "text": [
      "[[-3  1 -5 -2 -2 -5 -4]\n",
      " [-4  3 -3  0 -5 -3  4]\n",
      " [ 3  2 -1 -5 -5  2  3]\n",
      " [-1  4 -3 -5  3 -4  0]\n",
      " [-5 -2  3 -2 -5  2  0]\n",
      " [ 4  2  4 -4  0  4 -2]\n",
      " [ 0 -1 -4  2 -4  1 -3]]\n",
      "[[-5 -2  3 -2 -5  2  0]\n",
      " [ 4  2  4 -4  0  4 -2]\n",
      " [ 0 -1 -4  2 -4  1 -3]]\n",
      "[[-3  1]\n",
      " [-4  3]\n",
      " [ 3  2]\n",
      " [-1  4]\n",
      " [-5 -2]\n",
      " [ 4  2]\n",
      " [ 0 -1]]\n"
     ]
    }
   ],
   "source": [
    "B = np.random.randint(-5, 5, (7, 7)) \n",
    "C = B[-3:, :]\n",
    "M_ = B[:, :2]\n",
    "print(B)\n",
    "print(C)\n",
    "print(M_)\n",
    "\n",
    "\n"
   ]
  },
  {
   "cell_type": "markdown",
   "metadata": {},
   "source": [
    "Выполнить умножение матриц из предыдущего пункта\n",
    "тремя способами: используя векторный алгоритм умножения\n",
    "матриц; используя матричный алгоритм, записав матрицу С по\n",
    "строкам; проверив с помощью функции np.dot"
   ]
  },
  {
   "cell_type": "code",
   "execution_count": 9,
   "metadata": {},
   "outputs": [
    {
     "ename": "IndexError",
     "evalue": "index 3 is out of bounds for axis 0 with size 3",
     "output_type": "error",
     "traceback": [
      "\u001b[1;31m---------------------------------------------------------------------------\u001b[0m",
      "\u001b[1;31mIndexError\u001b[0m                                Traceback (most recent call last)",
      "\u001b[1;32mc:\\Users\\misha\\matan\\lab2.2.ipynb Ячейка 5\u001b[0m line \u001b[0;36m1\n\u001b[0;32m     <a href='vscode-notebook-cell:/c%3A/Users/misha/matan/lab2.2.ipynb#W4sZmlsZQ%3D%3D?line=9'>10</a>\u001b[0m     \u001b[39mfor\u001b[39;00m j \u001b[39min\u001b[39;00m \u001b[39mrange\u001b[39m(C\u001b[39m.\u001b[39mshape[\u001b[39m1\u001b[39m]):\n\u001b[0;32m     <a href='vscode-notebook-cell:/c%3A/Users/misha/matan/lab2.2.ipynb#W4sZmlsZQ%3D%3D?line=10'>11</a>\u001b[0m         \u001b[39mfor\u001b[39;00m k \u001b[39min\u001b[39;00m \u001b[39mrange\u001b[39m(B\u001b[39m.\u001b[39mshape[\u001b[39m1\u001b[39m]):\n\u001b[1;32m---> <a href='vscode-notebook-cell:/c%3A/Users/misha/matan/lab2.2.ipynb#W4sZmlsZQ%3D%3D?line=11'>12</a>\u001b[0m             M_[i, j] \u001b[39m+\u001b[39m\u001b[39m=\u001b[39m B[i, k] \u001b[39m*\u001b[39m C[k, j]\n\u001b[0;32m     <a href='vscode-notebook-cell:/c%3A/Users/misha/matan/lab2.2.ipynb#W4sZmlsZQ%3D%3D?line=12'>13</a>\u001b[0m B,C,M,M_,np\u001b[39m.\u001b[39mdot(B,C)\n",
      "\u001b[1;31mIndexError\u001b[0m: index 3 is out of bounds for axis 0 with size 3"
     ]
    }
   ],
   "source": [
    "#векторный\n",
    "M = np.zeros((B.shape[0], C.shape[1]))\n",
    "for i in range(len(B)):\n",
    "    for j in range(len(C[0])):\n",
    "        for p in range(len(C)):\n",
    "            M[i][j] = M[i][j] + B[i][p] * C[p][j]\n",
    "# Матричный алгоритм, записывая матрицу С по строкам (стандартное матричное умножение)\n",
    "M_ = np.zeros((B.shape[0], C.shape[1]))\n",
    "for i in range(B.shape[0]):\n",
    "    for j in range(C.shape[1]):\n",
    "        for k in range(B.shape[1]):\n",
    "            M_[i, j] += B[i, k] * C[k, j]\n",
    "B,C,M,M_,np.dot(B,C)"
   ]
  },
  {
   "cell_type": "markdown",
   "metadata": {},
   "source": [
    "Создать вектор-строку 1x7 из случайных целых чисел. Вычислить норму ‖x‖3\n",
    " самостоятельно написанной функцией и\n",
    "проверить результат с помощью linalg.norm()."
   ]
  },
  {
   "cell_type": "code",
   "execution_count": 12,
   "metadata": {},
   "outputs": [
    {
     "data": {
      "text/plain": [
       "(9.35609523735209, 9.35609523735209)"
      ]
     },
     "execution_count": 12,
     "metadata": {},
     "output_type": "execute_result"
    }
   ],
   "source": [
    "vector = np.random.randint(1,9, (1, 7))[0] \n",
    "sum = 0.0\n",
    "for i in vector:\n",
    "    sum += abs(i)**3\n",
    "sum=sum**(1/3)\n",
    "\n",
    "sum,np.linalg.norm(vector, 3)"
   ]
  },
  {
   "cell_type": "markdown",
   "metadata": {},
   "source": [
    "Создать матрицу из случайных целых чисел. Найти норму\n",
    "матрицы Фробениуса ‖A‖∞ с помощью самостоятельно\n",
    "написанного алгоритма, проверить результат с помощью\n",
    "linalg.norm()."
   ]
  },
  {
   "cell_type": "code",
   "execution_count": 10,
   "metadata": {},
   "outputs": [
    {
     "data": {
      "text/plain": [
       "(31.51190251317746, 31.51190251317746)"
      ]
     },
     "execution_count": 10,
     "metadata": {},
     "output_type": "execute_result"
    }
   ],
   "source": [
    "matrix = np.random.randint(1, 11, size=(5, 5))\n",
    "sum=0.0\n",
    "for i in range(matrix.shape[0]):\n",
    "    for j in range(matrix.shape[0]):\n",
    "        sum+=matrix[i][j]**2\n",
    "\n",
    "np.sqrt(sum),np.linalg.norm(matrix)"
   ]
  },
  {
   "cell_type": "code",
   "execution_count": 13,
   "metadata": {},
   "outputs": [
    {
     "data": {
      "text/plain": [
       "array([  1.        ,   6.        , -11.87434209,   0.        ,\n",
       "         0.        ,   0.        ,   0.        ])"
      ]
     },
     "execution_count": 13,
     "metadata": {},
     "output_type": "execute_result"
    }
   ],
   "source": [
    "v = vector.copy()\n",
    "v[3-1:] = 0\n",
    "# Вычисляем вектор отражения\n",
    "v = v - np.linalg.norm(vector) * np.eye(len(vector))[:, 3-1]\n",
    "v"
   ]
  },
  {
   "cell_type": "markdown",
   "metadata": {},
   "source": [
    "Для матрицы, созданной в 4 пункте, найти LU разложение\n",
    "самостоятельно написанной функцией и проверить результат с\n",
    "помощью перемножения матриц.\n"
   ]
  },
  {
   "cell_type": "code",
   "execution_count": 14,
   "metadata": {},
   "outputs": [
    {
     "data": {
      "text/plain": [
       "(array([[ 3,  6,  8,  2,  1],\n",
       "        [ 8,  9,  7,  8,  4],\n",
       "        [ 8,  1, 10,  6,  6],\n",
       "        [ 5,  2,  6, 10,  5],\n",
       "        [10,  1,  8,  3,  2]]),\n",
       " array([[ 1.        ,  0.        ,  0.        ,  0.        ,  0.        ],\n",
       "        [ 2.66666667,  1.        ,  0.        ,  0.        ,  0.        ],\n",
       "        [ 2.66666667,  2.14285714,  1.        ,  0.        ,  0.        ],\n",
       "        [ 1.66666667,  1.14285714,  0.46683047,  1.        ,  0.        ],\n",
       "        [ 3.33333333,  2.71428571,  1.04422604, -0.94284539,  1.        ]]),\n",
       " array([[  3.        ,   6.        ,   8.        ,   2.        ,\n",
       "           1.        ],\n",
       "        [  0.        ,  -7.        , -14.33333333,   2.66666667,\n",
       "           1.33333333],\n",
       "        [  0.        ,   0.        ,  19.38095238,  -5.04761905,\n",
       "           0.47619048],\n",
       "        [  0.        ,   0.        ,   0.        ,   5.97542998,\n",
       "           1.58722359],\n",
       "        [  0.        ,   0.        ,   0.        ,   0.        ,\n",
       "          -3.953125  ]]),\n",
       " array([[ 3.,  6.,  8.,  2.,  1.],\n",
       "        [ 8.,  9.,  7.,  8.,  4.],\n",
       "        [ 8.,  1., 10.,  6.,  6.],\n",
       "        [ 5.,  2.,  6., 10.,  5.],\n",
       "        [10.,  1.,  8.,  3.,  2.]]))"
      ]
     },
     "execution_count": 14,
     "metadata": {},
     "output_type": "execute_result"
    }
   ],
   "source": [
    "L = np.eye(matrix.shape[0])  # Создаем начальную матрицу L как единичную\n",
    "U = matrix.astype(\"float\")  # Создаем копию исходной матрицы для U\n",
    "for key in range(matrix.shape[0]):\n",
    "    for i in range(key+1, matrix.shape[0]):\n",
    "        factor = U[i, key] / U[key, key]\n",
    "        L[i, key] = factor\n",
    "        U[i, key:] -= factor * U[key, key:]\n",
    "\n",
    "matrix, L, U,np.dot(L, U)\n",
    "\n",
    "\n"
   ]
  },
  {
   "cell_type": "markdown",
   "metadata": {},
   "source": [
    "Для матрицы, созданной в 4 пункте, найти QR разложение\n",
    "всеми рассмотренными методами, проверить результат с помощью\n",
    "перемножения матриц и с помощью функции np.linalg.q"
   ]
  },
  {
   "cell_type": "code",
   "execution_count": 17,
   "metadata": {},
   "outputs": [
    {
     "data": {
      "text/plain": [
       "(array([[ 3,  6,  8,  2,  1],\n",
       "        [ 8,  9,  7,  8,  4],\n",
       "        [ 8,  1, 10,  6,  6],\n",
       "        [ 5,  2,  6, 10,  5],\n",
       "        [10,  1,  8,  3,  2]]),\n",
       " 'Q*R:',\n",
       " array([[ 3.,  6.,  8.,  2.,  1.],\n",
       "        [ 8.,  9.,  7.,  8.,  4.],\n",
       "        [ 8.,  1., 10.,  6.,  6.],\n",
       "        [ 5.,  2.,  6., 10.,  5.],\n",
       "        [10.,  1.,  8.,  3.,  2.]]),\n",
       " 'Матрица Q (метод Грама-Шмидта): ',\n",
       " array([[ 0.18534062,  0.55622098,  0.6675169 , -0.34075354, -0.30753096],\n",
       "        [ 0.49424165,  0.64572781, -0.50612235,  0.08309286,  0.27513004],\n",
       "        [ 0.49424165, -0.31144722,  0.45734506,  0.05313573,  0.66838456],\n",
       "        [ 0.30890103, -0.03014005,  0.1692586 ,  0.83353775, -0.42454454],\n",
       "        [ 0.61780206, -0.41922074, -0.24586254, -0.42352568, -0.45028012]]),\n",
       " 'Матрица R (метод Грама-Шмидта): ',\n",
       " array([[ 1.61864141e+01,  7.29006435e+00,  1.66806557e+01,\n",
       "          1.22324809e+01,  7.90786641e+00],\n",
       "        [ 2.22044605e-15,  8.35792808e+00,  2.32078410e+00,\n",
       "          2.85051836e+00,  2.81307163e-01],\n",
       "        [ 3.71924713e-15, -1.85962357e-15,  5.41938063e+00,\n",
       "          9.85123792e-01,  1.74166579e+00],\n",
       "        [ 4.10782519e-15,  1.16573418e-15,  2.22044605e-15,\n",
       "          7.36685064e+00,  3.63106967e+00],\n",
       "        [-3.21964677e-15, -1.83186799e-15, -5.77315973e-15,\n",
       "         -5.93969318e-15,  1.78001361e+00]]),\n",
       " 'Матрица Q (с использованием np.linalg.qr): ',\n",
       " array([[-0.18534062, -0.55622098,  0.6675169 ,  0.34075354,  0.30753096],\n",
       "        [-0.49424165, -0.64572781, -0.50612235, -0.08309286, -0.27513004],\n",
       "        [-0.49424165,  0.31144722,  0.45734506, -0.05313573, -0.66838456],\n",
       "        [-0.30890103,  0.03014005,  0.1692586 , -0.83353775,  0.42454454],\n",
       "        [-0.61780206,  0.41922074, -0.24586254,  0.42352568,  0.45028012]]),\n",
       " 'Матрица R (с использованием np.linalg.qr): ',\n",
       " array([[-16.18641406,  -7.29006435, -16.68065571, -12.23248085,\n",
       "          -7.90786641],\n",
       "        [  0.        ,  -8.35792808,  -2.3207841 ,  -2.85051836,\n",
       "          -0.28130716],\n",
       "        [  0.        ,   0.        ,   5.41938063,   0.98512379,\n",
       "           1.74166579],\n",
       "        [  0.        ,   0.        ,   0.        ,  -7.36685064,\n",
       "          -3.63106967],\n",
       "        [  0.        ,   0.        ,   0.        ,   0.        ,\n",
       "          -1.78001361]]))"
      ]
     },
     "execution_count": 17,
     "metadata": {},
     "output_type": "execute_result"
    }
   ],
   "source": [
    "#разложение методом Грама-Шмидта\n",
    "copy =  matrix.astype(\"float\") \n",
    "Q = np.zeros_like(copy)\n",
    "count = 0\n",
    "for a in copy.T:\n",
    "    v = np.copy(a)\n",
    "    for i in range(count):\n",
    "        v -= np.dot(np.dot(Q[:, i].T, a), Q[:, i])\n",
    "    e = v/np.linalg.norm(v)\n",
    "    Q[:, count] = e\n",
    "    count += 1\n",
    "R = Q.T @ copy\n",
    "\n",
    "Q_np, R_np = np.linalg.qr(matrix)\n",
    "\n",
    "matrix,\"Q*R:\", np.dot(Q, R),\"Матрица Q (метод Грама-Шмидта): \", Q,\"Матрица R (метод Грама-Шмидта): \", R,\"Матрица Q (с использованием np.linalg.qr): \", Q_np,\"Матрица R (с использованием np.linalg.qr): \", R_np"
   ]
  }
 ],
 "metadata": {
  "kernelspec": {
   "display_name": "Python 3",
   "language": "python",
   "name": "python3"
  },
  "language_info": {
   "codemirror_mode": {
    "name": "ipython",
    "version": 3
   },
   "file_extension": ".py",
   "mimetype": "text/x-python",
   "name": "python",
   "nbconvert_exporter": "python",
   "pygments_lexer": "ipython3",
   "version": "3.10.11"
  }
 },
 "nbformat": 4,
 "nbformat_minor": 2
}
