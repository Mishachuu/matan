{
 "cells": [
  {
   "cell_type": "code",
   "execution_count": 3,
   "metadata": {},
   "outputs": [],
   "source": [
    "import numpy as np\n",
    "import scipy"
   ]
  },
  {
   "cell_type": "markdown",
   "metadata": {},
   "source": [
    "Создать произвольную верхнетреугольную матрицу А 4 порядка (не унитреугольную), вектор B произвольный. Решить систему AX = B.\n"
   ]
  },
  {
   "cell_type": "code",
   "execution_count": 4,
   "metadata": {},
   "outputs": [
    {
     "data": {
      "text/plain": [
       "(array([[9, 7, 3, 2],\n",
       "        [0, 9, 5, 3],\n",
       "        [0, 0, 4, 4],\n",
       "        [0, 0, 0, 5]]),\n",
       " array([4, 6, 2, 5]),\n",
       " array([-0.08641975,  0.61111111, -0.5       ,  1.        ]),\n",
       " array([-0.08641975,  0.61111111, -0.5       ,  1.        ]))"
      ]
     },
     "execution_count": 4,
     "metadata": {},
     "output_type": "execute_result"
    }
   ],
   "source": [
    "A = np.triu(np.random.randint(1, 10, size=(4, 4)))\n",
    "B = np.random.randint(1, 10, size=(4,))\n",
    "A_inv = np.linalg.inv(A)\n",
    "# X=A^(-1)B\n",
    "A,B,np.dot(A_inv, B),np.linalg.solve(A, B)"
   ]
  },
  {
   "attachments": {
    "image.png": {
     "image/png": "[encoded data removed]"
    }
   },
   "cell_type": "markdown",
   "metadata": {},
   "source": [
    "![image.png](attachment:image.png)"
   ]
  },
  {
   "cell_type": "code",
   "execution_count": 5,
   "metadata": {},
   "outputs": [
    {
     "name": "stdout",
     "output_type": "stream",
     "text": [
      "Проверка:  [6.5 4.2 4.7 2.2]\n",
      "Решение X:\n",
      "[ 0.96420815  0.80787026  0.16594716 -0.52265596]\n"
     ]
    }
   ],
   "source": [
    "A = np.array([[6.1, 6.2, -6.3, 6.4],\n",
    "              [1.1, -1.5, 2.2, -3.8],\n",
    "              [5.1, -5, 4.9, -4.8],\n",
    "              [1.8, 1.9, 2,-2.1]])\n",
    "B = np.array([6.5, 4.2, 4.7, 2.2])\n",
    "\n",
    "# LU-разложение матрицы A\n",
    "P, L, U = scipy.linalg.lu(A)\n",
    "y = scipy.linalg.solve_triangular(L, B, lower=True, check_finite=False)\n",
    "\n",
    "# Решим систему уравнений Ux = y\n",
    "x = scipy.linalg.solve_triangular(U, y, check_finite=False)\n",
    "print(\"Проверка: \", np.dot(np.dot(A,x), P))\n",
    "print(\"Решение X:\")\n",
    "print(x)"
   ]
  },
  {
   "cell_type": "markdown",
   "metadata": {},
   "source": [
    "Решить систему из пункта 2 с помощью QR разложения\n",
    "матрицы А. QR разложение найти методом Хаусхолдера. Проверить полученное решение непосредственной подстановкой в исходную систему, а также методом np.solve.\n"
   ]
  },
  {
   "cell_type": "code",
   "execution_count": 11,
   "metadata": {},
   "outputs": [
    {
     "data": {
      "text/plain": [
       "(array([ 2.60277594, -0.47095758, -0.81250729]),\n",
       " array([ 2.60277594, -0.47095758, -0.81250729]))"
      ]
     },
     "execution_count": 11,
     "metadata": {},
     "output_type": "execute_result"
    }
   ],
   "source": [
    "# Выполним QR-разложение матрицы A \n",
    "Q, R = np.linalg.qr(A)\n",
    "\n",
    "# Решим систему уравнений y = Q^(T * B)\n",
    "y = np.dot(Q.T, B)\n",
    "x = np.linalg.solve(R, y)\n",
    "\n",
    "\n",
    "x,np.linalg.solve(A, B)"
   ]
  },
  {
   "cell_type": "markdown",
   "metadata": {},
   "source": [
    "Решить систему методом простых итераций с точностью до\n",
    "10−3\n",
    ". Проверить выполнение достаточного условия сходимости.\n",
    "Если условие не выполняется, в программе выполнить эквивалентные преобразования системы, после этого привести к удобному\n",
    "для итераций виду. Оформить итерации в виде таблицы"
   ]
  },
  {
   "attachments": {
    "image.png": {
     "image/png": "[encoded data removed]"
    }
   },
   "cell_type": "markdown",
   "metadata": {},
   "source": [
    "![image.png](attachment:image.png)"
   ]
  },
  {
   "cell_type": "code",
   "execution_count": 10,
   "metadata": {},
   "outputs": [
    {
     "name": "stdout",
     "output_type": "stream",
     "text": [
      "Не выполнено достаточное условие\n",
      "[[ 0.          0.1255814  -0.11627907]\n",
      " [-0.69565217  0.          0.65217391]\n",
      " [-0.29411765 -0.2         0.        ]]\n",
      "1.0320171796823672\n",
      "Не выполнено достаточное условие\n",
      "[[ 0.          0.1255814  -0.11627907]\n",
      " [-0.69565217  0.          0.65217391]\n",
      " [-0.29411765 -0.2         0.        ]]\n",
      "1.0320171796823672\n",
      "Не выполнено достаточное условие\n",
      "[[ 0.          0.1255814  -0.11627907]\n",
      " [-0.69565217  0.          0.65217391]\n",
      " [-0.29411765 -0.2         0.        ]]\n",
      "1.0320171796823672\n",
      "Не выполнено достаточное условие\n",
      "[[ 0.          0.1255814  -0.11627907]\n",
      " [-0.69565217  0.          0.65217391]\n",
      " [-0.29411765 -0.2         0.        ]]\n",
      "1.0320171796823672\n",
      "Не выполнено достаточное условие\n",
      "[[ 0.          0.1255814  -0.11627907]\n",
      " [-0.69565217  0.          0.65217391]\n",
      " [-0.29411765 -0.2         0.        ]]\n",
      "1.0320171796823672\n",
      "Не выполнено достаточное условие\n",
      "[[ 0.          0.1255814  -0.11627907]\n",
      " [-0.69565217  0.          0.65217391]\n",
      " [-0.29411765 -0.2         0.        ]]\n",
      "1.0320171796823672\n",
      "Не выполнено достаточное условие\n",
      "[[ 0.          0.1255814  -0.11627907]\n",
      " [-0.69565217  0.          0.65217391]\n",
      " [-0.29411765 -0.2         0.        ]]\n",
      "1.0320171796823672\n",
      "Не выполнено достаточное условие\n",
      "[[ 0.          0.1255814  -0.11627907]\n",
      " [-0.69565217  0.          0.65217391]\n",
      " [-0.29411765 -0.2         0.        ]]\n",
      "1.0320171796823672\n",
      "Не выполнено достаточное условие\n",
      "[[ 0.          0.1255814  -0.11627907]\n",
      " [-0.69565217  0.          0.65217391]\n",
      " [-0.29411765 -0.2         0.        ]]\n",
      "1.0320171796823672\n",
      "Не выполнено достаточное условие\n",
      "[[ 0.          0.1255814  -0.11627907]\n",
      " [-0.69565217  0.          0.65217391]\n",
      " [-0.29411765 -0.2         0.        ]]\n",
      "1.0320171796823672\n",
      "Не выполнено достаточное условие\n",
      "[[ 0.          0.1255814  -0.11627907]\n",
      " [-0.69565217  0.          0.65217391]\n",
      " [-0.29411765 -0.2         0.        ]]\n",
      "1.0320171796823672\n",
      "Не выполнено достаточное условие\n",
      "[[ 0.          0.1255814  -0.11627907]\n",
      " [-0.69565217  0.          0.65217391]\n",
      " [-0.29411765 -0.2         0.        ]]\n",
      "1.0320171796823672\n",
      "Не выполнено достаточное условие\n",
      "[[ 0.          0.1255814  -0.11627907]\n",
      " [-0.69565217  0.          0.65217391]\n",
      " [-0.29411765 -0.2         0.        ]]\n",
      "1.0320171796823672\n",
      "Решение X: [ 2.60290571 -0.47134326 -0.81271376]\n",
      "Количество итераций: 12\n"
     ]
    }
   ],
   "source": [
    "A = np.array([[2.7, 0.9, -1.5],\n",
    "              [4.5, -2.8, 6.7],\n",
    "              [5.1, 3.7, -1.4]])\n",
    "B = np.array([3.5, 2.6,  -0.14])\n",
    "\n",
    "epsilon = 1e-3\n",
    "\n",
    "def preporetion(A, B):\n",
    "    new_A = np.zeros_like(A)\n",
    "    for i in range(0,len(A)):\n",
    "        for j in range(0,len(A)):\n",
    "            if (i==j): \n",
    "                new_A[i][j] = 0\n",
    "            else:\n",
    "                new_A[i][j] = A[i][j]/(-A[i][i])\n",
    "\n",
    "    new_B = np.zeros_like(B)\n",
    "    for i in range(0,len(B)):\n",
    "        new_B[i] = B[i]/(A[i][i])\n",
    "    return new_A, new_B\n",
    "\n",
    "new_A, new_B = preporetion(A, B)\n",
    "x = np.array([0,0,0])\n",
    "\n",
    "iterations = 0\n",
    "while True:\n",
    "    if(np.linalg.norm(new_A.T, 1)>1):\n",
    "        print(\"Не выполнено достаточное условие\")\n",
    "        A = np.array([[4.3, -0.54, 0.5],\n",
    "                          [1.6, 2.3, -1.5],\n",
    "                          [0.5, 0.34, 1.7],])\n",
    "        B = np.array([11.04, 4.3, -0.24])\n",
    "        new_A, new_B = preporetion(A, B)\n",
    "        print(new_A)\n",
    "        print(np.linalg.norm(new_A.T))\n",
    "\n",
    "    new_x = np.dot(new_A, x.T) + new_B\n",
    "    \n",
    "    # Проверка сходимости\n",
    "    if np.abs(min(new_x - x)) < epsilon:\n",
    "        break\n",
    "    \n",
    "    x=new_x\n",
    "\n",
    "    iterations += 1\n",
    "\n",
    "print(f\"Решение X: {x}\")\n",
    "print(f\"Количество итераций: {iterations}\")"
   ]
  },
  {
   "attachments": {
    "image.png": {
     "image/png": "[encoded data removed]"
    }
   },
   "cell_type": "markdown",
   "metadata": {},
   "source": [
    "![image.png](attachment:image.png)"
   ]
  },
  {
   "cell_type": "code",
   "execution_count": 8,
   "metadata": {},
   "outputs": [
    {
     "name": "stdout",
     "output_type": "stream",
     "text": [
      "Псевдорешение x:\n",
      "[ 0.80406045 -1.3022679  -0.70499247]\n"
     ]
    }
   ],
   "source": [
    "\n",
    "A = np.array([[2.7, 0.9, -1.5],\n",
    "              [4.5, -2.8, 6.7],\n",
    "              [5.1, 3.7, -1.4],\n",
    "              [7.1, -1.3, -4.1]])\n",
    "B = np.array([3.5, 2.6, -0.14, 10])\n",
    "\n",
    "# Находим псевдорешение x с использованием метода наименьших квадратов\n",
    "x_pseudo = np.linalg.lstsq(A, B, rcond=None)[0]\n",
    "\n",
    "print(\"Псевдорешение x:\")\n",
    "print(x_pseudo)"
   ]
  }
 ],
 "metadata": {
  "kernelspec": {
   "display_name": "Python 3",
   "language": "python",
   "name": "python3"
  },
  "language_info": {
   "codemirror_mode": {
    "name": "ipython",
    "version": 3
   },
   "file_extension": ".py",
   "mimetype": "text/x-python",
   "name": "python",
   "nbconvert_exporter": "python",
   "pygments_lexer": "ipython3",
   "version": "3.10.11"
  }
 },
 "nbformat": 4,
 "nbformat_minor": 2
}
